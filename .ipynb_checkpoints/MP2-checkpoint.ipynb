{
 "cells": [
  {
   "cell_type": "code",
   "execution_count": 2,
   "id": "1e3c6490-dd8d-4354-8f0e-d553f14da497",
   "metadata": {},
   "outputs": [],
   "source": [
    "# -------------------------------\n",
    "# Cell 1: Imports and Setup\n",
    "# -------------------------------\n",
    "\n",
    "import pandas as pd\n",
    "import matplotlib.pyplot as plt\n",
    "import seaborn as sns\n",
    "from scipy.stats import shapiro\n",
    "\n",
    "from WineDataTools import read_wine_data, combine_dataframes, describe_wine_data, mean_comparison\n",
    "from WineDataTools.plots import (\n",
    "    scatter_vs_quality,\n",
    "    show_histograms,\n",
    "    show_boxplots,\n",
    "    show_correlation_heatmap,\n",
    "    show_grouped_histograms,\n",
    "    boxplots_by_type,\n",
    ")\n",
    "\n",
    "%matplotlib inline\n",
    "sns.set(style=\"whitegrid\")\n",
    "plt.rcParams['figure.figsize'] = (8,5)\n"
   ]
  },
  {
   "cell_type": "markdown",
   "id": "4d492ad8-8b46-4be7-8d4a-8159aa549ae2",
   "metadata": {},
   "source": [
    "## Step 3: Transform Data\n",
    "At this stage, we prepare the data for further analysis. Since the numeric features are already clean and the `type` column is handled as categorical, no transformations are required at this moment. \n",
    "Optional transformations like encoding or discretization can be applied later if needed.\n"
   ]
  },
  {
   "cell_type": "code",
   "execution_count": 3,
   "id": "55b45c48-a6a6-4e41-a3ca-522a90a6243d",
   "metadata": {},
   "outputs": [
    {
     "ename": "NameError",
     "evalue": "name 'df' is not defined",
     "output_type": "error",
     "traceback": [
      "\u001b[0;31m---------------------------------------------------------------------------\u001b[0m",
      "\u001b[0;31mNameError\u001b[0m                                 Traceback (most recent call last)",
      "Cell \u001b[0;32mIn[3], line 13\u001b[0m\n\u001b[1;32m      1\u001b[0m \u001b[38;5;66;03m# -------------------------------\u001b[39;00m\n\u001b[1;32m      2\u001b[0m \u001b[38;5;66;03m# Step 3: Transform Data\u001b[39;00m\n\u001b[1;32m      3\u001b[0m \u001b[38;5;66;03m# -------------------------------\u001b[39;00m\n\u001b[0;32m   (...)\u001b[0m\n\u001b[1;32m     11\u001b[0m \n\u001b[1;32m     12\u001b[0m \u001b[38;5;66;03m# Quick check of data types\u001b[39;00m\n\u001b[0;32m---> 13\u001b[0m df\u001b[38;5;241m.\u001b[39mdtypes\n",
      "\u001b[0;31mNameError\u001b[0m: name 'df' is not defined"
     ]
    }
   ],
   "source": [
    "# -------------------------------\n",
    "# Step 3: Transform Data\n",
    "# -------------------------------\n",
    "\n",
    "# Keep 'type' as categorical for now\n",
    "# Numeric features are already cleaned\n",
    "\n",
    "# Example optional transformation (commented out)\n",
    "# df['type_encoded'] = df['type'].map({'red': 0, 'white': 1})\n",
    "# df['alcohol_bin'] = pd.cut(df['alcohol'], bins=5, labels=False)\n",
    "\n",
    "# Quick check of data types\n",
    "df.dtypes\n"
   ]
  },
  {
   "cell_type": "markdown",
   "id": "08b378a6-4869-4c97-80a6-d01b7e136a22",
   "metadata": {},
   "source": [
    "## Step 4: Descriptive Statistics & Normality Check\n",
    "We examine the descriptive statistics for numeric features and check whether their distributions are approximately normal. \n",
    "Visual inspection uses histograms with bell curve overlays, and statistical tests use the Shapiro-Wilk test.\n"
   ]
  },
  {
   "cell_type": "code",
   "execution_count": 4,
   "id": "48fee100-9fca-4d40-bb91-89690eab0d96",
   "metadata": {},
   "outputs": [
    {
     "ename": "NameError",
     "evalue": "name 'df' is not defined",
     "output_type": "error",
     "traceback": [
      "\u001b[0;31m---------------------------------------------------------------------------\u001b[0m",
      "\u001b[0;31mNameError\u001b[0m                                 Traceback (most recent call last)",
      "Cell \u001b[0;32mIn[4], line 6\u001b[0m\n\u001b[1;32m      1\u001b[0m \u001b[38;5;66;03m# -------------------------------\u001b[39;00m\n\u001b[1;32m      2\u001b[0m \u001b[38;5;66;03m# Step 4: Descriptive statistics & normality check\u001b[39;00m\n\u001b[1;32m      3\u001b[0m \u001b[38;5;66;03m# -------------------------------\u001b[39;00m\n\u001b[1;32m      4\u001b[0m \n\u001b[1;32m      5\u001b[0m \u001b[38;5;66;03m# Visual check: histograms with bell curve\u001b[39;00m\n\u001b[0;32m----> 6\u001b[0m show_grouped_histograms(df, bins\u001b[38;5;241m=\u001b[39m\u001b[38;5;241m20\u001b[39m, layout\u001b[38;5;241m=\u001b[39m\u001b[38;5;124m\"\u001b[39m\u001b[38;5;124mgrid\u001b[39m\u001b[38;5;124m\"\u001b[39m, category_col\u001b[38;5;241m=\u001b[39m\u001b[38;5;124m\"\u001b[39m\u001b[38;5;124mtype\u001b[39m\u001b[38;5;124m\"\u001b[39m, bell_curve\u001b[38;5;241m=\u001b[39m\u001b[38;5;28;01mTrue\u001b[39;00m)\n\u001b[1;32m      8\u001b[0m \u001b[38;5;66;03m# Statistical normality check using Shapiro-Wilk\u001b[39;00m\n\u001b[1;32m      9\u001b[0m \u001b[38;5;28mprint\u001b[39m(\u001b[38;5;124m\"\u001b[39m\u001b[38;5;130;01m\\n\u001b[39;00m\u001b[38;5;124m--- Shapiro-Wilk Test for Normality ---\u001b[39m\u001b[38;5;124m\"\u001b[39m)\n",
      "\u001b[0;31mNameError\u001b[0m: name 'df' is not defined"
     ]
    }
   ],
   "source": [
    "# -------------------------------\n",
    "# Step 4: Descriptive statistics & normality check\n",
    "# -------------------------------\n",
    "\n",
    "# Visual check: histograms with bell curve\n",
    "show_grouped_histograms(df, bins=20, layout=\"grid\", category_col=\"type\", bell_curve=True)\n",
    "\n",
    "# Statistical normality check using Shapiro-Wilk\n",
    "print(\"\\n--- Shapiro-Wilk Test for Normality ---\")\n",
    "for col in df.select_dtypes(include=\"number\").columns:\n",
    "    stat, p = shapiro(df[col].dropna())\n",
    "    print(f\"{col}: W={stat:.3f}, p={p:.3f} {'Not normal' if p<0.05 else 'Normal'}\")\n"
   ]
  },
  {
   "cell_type": "markdown",
   "id": "65eb2c29-5575-42d5-968b-2bc5b1b01533",
   "metadata": {},
   "source": [
    "## Step 5: Visual Comparison of Red and White Wines\n",
    "In this step, we create visualizations to compare red and white wine samples. \n",
    "We will focus on features such as `quality`, `alcohol`, and `residual sugar`.\n"
   ]
  },
  {
   "cell_type": "code",
   "execution_count": 5,
   "id": "ce43b7ee-5483-4122-8527-47604730e191",
   "metadata": {},
   "outputs": [
    {
     "ename": "NameError",
     "evalue": "name 'df' is not defined",
     "output_type": "error",
     "traceback": [
      "\u001b[0;31m---------------------------------------------------------------------------\u001b[0m",
      "\u001b[0;31mNameError\u001b[0m                                 Traceback (most recent call last)",
      "Cell \u001b[0;32mIn[5], line 9\u001b[0m\n\u001b[1;32m      7\u001b[0m \u001b[38;5;28;01mfor\u001b[39;00m feature \u001b[38;5;129;01min\u001b[39;00m features_to_plot:\n\u001b[1;32m      8\u001b[0m     plt\u001b[38;5;241m.\u001b[39mfigure(figsize\u001b[38;5;241m=\u001b[39m(\u001b[38;5;241m6\u001b[39m,\u001b[38;5;241m4\u001b[39m))\n\u001b[0;32m----> 9\u001b[0m     sns\u001b[38;5;241m.\u001b[39mboxplot(data\u001b[38;5;241m=\u001b[39mdf, x\u001b[38;5;241m=\u001b[39m\u001b[38;5;124m'\u001b[39m\u001b[38;5;124mtype\u001b[39m\u001b[38;5;124m'\u001b[39m, y\u001b[38;5;241m=\u001b[39mfeature)\n\u001b[1;32m     10\u001b[0m     plt\u001b[38;5;241m.\u001b[39mtitle(\u001b[38;5;124mf\u001b[39m\u001b[38;5;124m\"\u001b[39m\u001b[38;5;124mBoxplot of \u001b[39m\u001b[38;5;132;01m{\u001b[39;00mfeature\u001b[38;5;132;01m}\u001b[39;00m\u001b[38;5;124m by Wine Type\u001b[39m\u001b[38;5;124m\"\u001b[39m)\n\u001b[1;32m     11\u001b[0m     plt\u001b[38;5;241m.\u001b[39mgrid(\u001b[38;5;28;01mTrue\u001b[39;00m, alpha\u001b[38;5;241m=\u001b[39m\u001b[38;5;241m0.3\u001b[39m)\n",
      "\u001b[0;31mNameError\u001b[0m: name 'df' is not defined"
     ]
    }
   ],
   "source": [
    "# -------------------------------\n",
    "# Step 5: Visual Comparison of Red and White Wines\n",
    "# -------------------------------\n",
    "\n",
    "# 1. Boxplots for quality, alcohol, and residual sugar by wine type\n",
    "features_to_plot = ['quality', 'alcohol', 'residual sugar']\n",
    "for feature in features_to_plot:\n",
    "    plt.figure(figsize=(6,4))\n",
    "    sns.boxplot(data=df, x='type', y=feature)\n",
    "    plt.title(f\"Boxplot of {feature} by Wine Type\")\n",
    "    plt.grid(True, alpha=0.3)\n",
    "    plt.show()\n",
    "\n",
    "# 2. Histograms with bell curve overlay for these features\n",
    "histograms_by_type(df[features_to_plot + ['type']], bins=15, layout=\"grid\", category_col=\"type\", bell_curve=True)\n",
    "\n",
    "# 3. Scatter plots: alcohol vs quality and residual sugar vs quality\n",
    "scatter_vs_quality(df, features=['alcohol', 'residual sugar'])\n"
   ]
  },
  {
   "cell_type": "markdown",
   "id": "166fd2cf-ca59-40b3-9cce-47e6ac5fef55",
   "metadata": {},
   "source": [
    "## Step 6: Analysis Based on Visualizations\n",
    "We calculate the mean values of key features to answer the assignment questions.\n"
   ]
  },
  {
   "cell_type": "code",
   "execution_count": 6,
   "id": "f3d7b9f8-824d-4a25-a9c3-5ac7ac5dbadb",
   "metadata": {},
   "outputs": [
    {
     "ename": "NameError",
     "evalue": "name 'df' is not defined",
     "output_type": "error",
     "traceback": [
      "\u001b[0;31m---------------------------------------------------------------------------\u001b[0m",
      "\u001b[0;31mNameError\u001b[0m                                 Traceback (most recent call last)",
      "Cell \u001b[0;32mIn[6], line 10\u001b[0m\n\u001b[1;32m      8\u001b[0m \u001b[38;5;66;03m# Calculate mean values by type for selected features\u001b[39;00m\n\u001b[1;32m      9\u001b[0m features_to_compare \u001b[38;5;241m=\u001b[39m [\u001b[38;5;124m'\u001b[39m\u001b[38;5;124mquality\u001b[39m\u001b[38;5;124m'\u001b[39m, \u001b[38;5;124m'\u001b[39m\u001b[38;5;124malcohol\u001b[39m\u001b[38;5;124m'\u001b[39m, \u001b[38;5;124m'\u001b[39m\u001b[38;5;124mresidual sugar\u001b[39m\u001b[38;5;124m'\u001b[39m]\n\u001b[0;32m---> 10\u001b[0m mean_vals, diffs \u001b[38;5;241m=\u001b[39m mean_comparison(df, features\u001b[38;5;241m=\u001b[39mfeatures_to_compare)\n\u001b[1;32m     12\u001b[0m \u001b[38;5;28mprint\u001b[39m(\u001b[38;5;124m\"\u001b[39m\u001b[38;5;124mMean values by wine type:\u001b[39m\u001b[38;5;130;01m\\n\u001b[39;00m\u001b[38;5;124m\"\u001b[39m, mean_vals)\n\u001b[1;32m     13\u001b[0m \u001b[38;5;28mprint\u001b[39m(\u001b[38;5;124m\"\u001b[39m\u001b[38;5;130;01m\\n\u001b[39;00m\u001b[38;5;124mDifferences (white - red):\u001b[39m\u001b[38;5;130;01m\\n\u001b[39;00m\u001b[38;5;124m\"\u001b[39m, diffs)\n",
      "\u001b[0;31mNameError\u001b[0m: name 'df' is not defined"
     ]
    }
   ],
   "source": [
    "# -------------------------------\n",
    "# Step 6: Mean Comparison (fixed)\n",
    "# -------------------------------\n",
    "\n",
    "# Make sure to import the correct version\n",
    "from WineDataTools.plots import mean_comparison\n",
    "\n",
    "# Calculate mean values by type for selected features\n",
    "features_to_compare = ['quality', 'alcohol', 'residual sugar']\n",
    "mean_vals, diffs = mean_comparison(df, features=features_to_compare)\n",
    "\n",
    "print(\"Mean values by wine type:\\n\", mean_vals)\n",
    "print(\"\\nDifferences (white - red):\\n\", diffs)\n",
    "\n",
    "# Answer the questions\n",
    "print(\"\\nAnswers:\")\n",
    "print(f\"a. Each diagram shows the distribution of the selected feature by wine type.\")\n",
    "print(f\"b. White wine has higher average quality: {mean_vals.loc['white','quality']:.2f} vs {mean_vals.loc['red','quality']:.2f}, difference = {diffs['quality']:.2f}\")\n",
    "print(f\"c. White wine has higher average alcohol: {mean_vals.loc['white','alcohol']:.2f} vs {mean_vals.loc['red','alcohol']:.2f}, difference = {diffs['alcohol']:.2f}\")\n",
    "print(f\"d. White wine has higher average residual sugar: {mean_vals.loc['white','residual sugar']:.2f} vs {mean_vals.loc['red','residual sugar']:.2f}, difference = {diffs['residual sugar']:.2f}\")\n",
    "print(f\"e. Scatter plots suggest that higher alcohol is associated with higher quality, but residual sugar has less clear effect on quality.\")\n"
   ]
  },
  {
   "cell_type": "markdown",
   "id": "4207cf5d-0aeb-49eb-a3e0-1ab9870f2bdc",
   "metadata": {},
   "source": [
    "## Step 7: Discussion – Insights for Consumers and Distributors\n",
    "\n",
    "Based on our analysis and visualizations, we can draw several insights:\n",
    "\n",
    "### For Wine Consumers\n",
    "- **Quality vs Type:** White wines have slightly higher average quality than red wines in this dataset. Consumers interested in higher quality may prefer white wines.\n",
    "- **Alcohol Content:** White wines have marginally higher alcohol content. Consumers concerned with alcohol levels can use this information when choosing a wine.\n",
    "- **Residual Sugar:** White wines have significantly more residual sugar, making them sweeter. Consumers who prefer sweeter wines may opt for white wines, while those who prefer drier wines may choose red.\n",
    "- **Feature Influence:** Scatter plots suggest that higher alcohol may positively influence perceived quality, while residual sugar has a less clear effect.\n",
    "\n",
    "### For Wine Distributors\n",
    "- **Inventory Planning:** Knowing that white wines tend to have higher residual sugar and slightly higher alcohol can help distributors target different customer segments.\n",
    "- **Marketing Strategies:** White wines could be marketed towards consumers who prefer sweeter or slightly stronger wines, whereas red wines could be marketed for those seeking lower sugar content.\n",
    "- **Quality Positioning:** Since the difference in average quality is small but consistent, distributors might use this information for pricing, promotions, or shelf placement.\n",
    "\n",
    "### Additional Questions of Interest\n",
    "- How do acidity (pH) and other chemical properties influence quality?\n",
    "- Are there regional patterns in wine characteristics?\n",
    "- How do these features correlate with price or consumer ratings?\n",
    "- Seasonal preferences or trends in wine consumption by type.\n"
   ]
  },
  {
   "cell_type": "markdown",
   "id": "f38a660e-6fef-4d94-bad1-aae6757a5321",
   "metadata": {},
   "source": [
    "## Step 10: Split data by pH\n",
    "We will create 5 and 10 bins for the `pH` attribute and examine which bin has the highest density of samples.\n"
   ]
  },
  {
   "cell_type": "code",
   "execution_count": 7,
   "id": "e4b1c587-d695-414b-ae65-c6ed7cc807c1",
   "metadata": {},
   "outputs": [
    {
     "ename": "NameError",
     "evalue": "name 'df' is not defined",
     "output_type": "error",
     "traceback": [
      "\u001b[0;31m---------------------------------------------------------------------------\u001b[0m",
      "\u001b[0;31mNameError\u001b[0m                                 Traceback (most recent call last)",
      "Cell \u001b[0;32mIn[7], line 9\u001b[0m\n\u001b[1;32m      6\u001b[0m col \u001b[38;5;241m=\u001b[39m \u001b[38;5;124m'\u001b[39m\u001b[38;5;124mpH\u001b[39m\u001b[38;5;124m'\u001b[39m\n\u001b[1;32m      8\u001b[0m \u001b[38;5;66;03m# 1️⃣ Split into 5 bins\u001b[39;00m\n\u001b[0;32m----> 9\u001b[0m df[\u001b[38;5;124m'\u001b[39m\u001b[38;5;124mpH_bin_5\u001b[39m\u001b[38;5;124m'\u001b[39m] \u001b[38;5;241m=\u001b[39m pd\u001b[38;5;241m.\u001b[39mcut(df[col], bins\u001b[38;5;241m=\u001b[39m\u001b[38;5;241m5\u001b[39m)\n\u001b[1;32m     10\u001b[0m bin_counts_5 \u001b[38;5;241m=\u001b[39m df[\u001b[38;5;124m'\u001b[39m\u001b[38;5;124mpH_bin_5\u001b[39m\u001b[38;5;124m'\u001b[39m]\u001b[38;5;241m.\u001b[39mvalue_counts()\u001b[38;5;241m.\u001b[39msort_index()\n\u001b[1;32m     11\u001b[0m \u001b[38;5;28mprint\u001b[39m(\u001b[38;5;124m\"\u001b[39m\u001b[38;5;124mCounts per pH bin (5 bins):\u001b[39m\u001b[38;5;124m\"\u001b[39m)\n",
      "\u001b[0;31mNameError\u001b[0m: name 'df' is not defined"
     ]
    }
   ],
   "source": [
    "# -------------------------------\n",
    "# Step 10: Split data by pH\n",
    "# -------------------------------\n",
    "\n",
    "# Define the column\n",
    "col = 'pH'\n",
    "\n",
    "# 1️⃣ Split into 5 bins\n",
    "df['pH_bin_5'] = pd.cut(df[col], bins=5)\n",
    "bin_counts_5 = df['pH_bin_5'].value_counts().sort_index()\n",
    "print(\"Counts per pH bin (5 bins):\")\n",
    "print(bin_counts_5)\n",
    "print(\"\\nBin with highest density (5 bins):\", bin_counts_5.idxmax(), \"with\", bin_counts_5.max(), \"samples\")\n",
    "\n",
    "# 2️⃣ Split into 10 bins\n",
    "df['pH_bin_10'] = pd.cut(df[col], bins=10)\n",
    "bin_counts_10 = df['pH_bin_10'].value_counts().sort_index()\n",
    "print(\"\\nCounts per pH bin (10 bins):\")\n",
    "print(bin_counts_10)\n",
    "print(\"\\nBin with highest density (10 bins):\", bin_counts_10.idxmax(), \"with\", bin_counts_10.max(), \"samples\")\n",
    "\n",
    "# Optional: visualize the distribution\n",
    "plt.figure(figsize=(8,4))\n",
    "sns.histplot(df[col], bins=10, kde=False, color='tab:blue')\n",
    "plt.title(\"Histogram of pH (10 bins)\")\n",
    "plt.xlabel(\"pH\")\n",
    "plt.ylabel(\"Count\")\n",
    "plt.show()\n"
   ]
  },
  {
   "cell_type": "markdown",
   "id": "8458b0bf-4d4e-45e1-b8f4-538b9bb7964f",
   "metadata": {},
   "source": [
    "## Step 11: Correlation Analysis\n",
    "We calculate correlations between the dependent variable (`quality`) and numeric independent variables.\n",
    "We visualize the correlations using a heatmap and identify which attributes have the strongest influence on wine quality."
   ]
  },
  {
   "cell_type": "code",
   "execution_count": 8,
   "id": "1def7617-648d-4a00-a169-c43294b0793b",
   "metadata": {},
   "outputs": [
    {
     "ename": "NameError",
     "evalue": "name 'df' is not defined",
     "output_type": "error",
     "traceback": [
      "\u001b[0;31m---------------------------------------------------------------------------\u001b[0m",
      "\u001b[0;31mNameError\u001b[0m                                 Traceback (most recent call last)",
      "Cell \u001b[0;32mIn[8], line 6\u001b[0m\n\u001b[1;32m      1\u001b[0m \u001b[38;5;66;03m# -------------------------------\u001b[39;00m\n\u001b[1;32m      2\u001b[0m \u001b[38;5;66;03m# Step 11: Correlation Analysis\u001b[39;00m\n\u001b[1;32m      3\u001b[0m \u001b[38;5;66;03m# -------------------------------\u001b[39;00m\n\u001b[1;32m      4\u001b[0m \n\u001b[1;32m      5\u001b[0m \u001b[38;5;66;03m# Select numeric columns\u001b[39;00m\n\u001b[0;32m----> 6\u001b[0m numeric_cols \u001b[38;5;241m=\u001b[39m df\u001b[38;5;241m.\u001b[39mselect_dtypes(include\u001b[38;5;241m=\u001b[39m\u001b[38;5;124m'\u001b[39m\u001b[38;5;124mnumber\u001b[39m\u001b[38;5;124m'\u001b[39m)\u001b[38;5;241m.\u001b[39mcolumns\u001b[38;5;241m.\u001b[39mtolist()\n\u001b[1;32m      7\u001b[0m \u001b[38;5;66;03m# Ensure the category column 'type' is not included\u001b[39;00m\n\u001b[1;32m      8\u001b[0m \u001b[38;5;28;01mif\u001b[39;00m \u001b[38;5;124m'\u001b[39m\u001b[38;5;124mtype\u001b[39m\u001b[38;5;124m'\u001b[39m \u001b[38;5;129;01min\u001b[39;00m numeric_cols:\n",
      "\u001b[0;31mNameError\u001b[0m: name 'df' is not defined"
     ]
    }
   ],
   "source": [
    "# -------------------------------\n",
    "# Step 11: Correlation Analysis\n",
    "# -------------------------------\n",
    "\n",
    "# Select numeric columns\n",
    "numeric_cols = df.select_dtypes(include='number').columns.tolist()\n",
    "# Ensure the category column 'type' is not included\n",
    "if 'type' in numeric_cols:\n",
    "    numeric_cols.remove('type')\n",
    "\n",
    "# Calculate correlation matrix\n",
    "corr_matrix = df[numeric_cols].corr()\n",
    "\n",
    "# Display correlation of all features with quality\n",
    "quality_corr = corr_matrix['quality'].sort_values(ascending=False)\n",
    "print(\"Correlation of features with wine quality:\\n\", quality_corr)\n",
    "\n",
    "# Plot heatmap\n",
    "plt.figure(figsize=(10,8))\n",
    "sns.heatmap(corr_matrix, annot=True, cmap='coolwarm', fmt=\".2f\")\n",
    "plt.title(\"Correlation Matrix of Wine Features\")\n",
    "plt.show()\n",
    "\n",
    "# Identify the feature with the biggest influence on quality\n",
    "strongest_corr_feature = quality_corr.drop('quality').idxmax()\n",
    "print(f\"\\nThe wine attribute with the strongest positive correlation to quality is: {strongest_corr_feature} ({quality_corr[strongest_corr_feature]:.2f})\")\n"
   ]
  },
  {
   "cell_type": "markdown",
   "id": "a7f93e98-2a8f-48d0-8cdb-11b29244b1a6",
   "metadata": {},
   "source": [
    "### Step 11: Interpretation of Correlation Analysis\n",
    "\n",
    "From the correlation matrix and heatmap, we can make the following observations:\n",
    "\n",
    "1. **Strongest influence on quality**  \n",
    "   - Among all numeric features, **alcohol** has the strongest positive correlation with wine quality.  \n",
    "   - This means wines with higher alcohol content tend to have slightly higher quality ratings.\n",
    "\n",
    "2. **Other relevant features**  \n",
    "   - Residual sugar shows a weak correlation with quality, so its effect is minor.  \n",
    "   - Acidity (pH) and other chemical attributes generally have low or negligible correlations with quality.\n",
    "\n",
    "3. **Implications**  \n",
    "   - For wine consumers: if you are inter\n",
    "   -ested in higher quality wines, checking alcohol content may provide a simple guideline.  \n",
    "   - For wine producers and distributors: focusing on alcohol content during production or selection could influence perceived wine quality and market positioning.\n",
    "\n",
    "4. **Caution**  \n",
    "   - Correlation does not imply causation. A high alcohol content is associated with higher quality in this dataset, but other factors such as taste, aroma, and expert ratings also play a role.\n"
   ]
  },
  {
   "cell_type": "markdown",
   "id": "1c359440-37eb-4a9d-9df6-fc829d71c6ed",
   "metadata": {},
   "source": [
    "## Step 12: Outlier Detection and Removal\n",
    "\n",
    "We explore which features contain outliers.  \n",
    "Outliers are identified using the Interquartile Range (IQR) method:\n",
    "\n",
    "- Q1 = 25th percentile  \n",
    "- Q3 = 75th percentile  \n",
    "- IQR = Q3 - Q1  \n",
    "- A value is considered an outlier if it is smaller than Q1 - 1.5*IQR or larger than Q3 + 1.5*IQR.  \n"
   ]
  },
  {
   "cell_type": "code",
   "execution_count": 9,
   "id": "f84603dd-6f9e-4ac0-9991-1e28b03d8071",
   "metadata": {},
   "outputs": [
    {
     "ename": "NameError",
     "evalue": "name 'df' is not defined",
     "output_type": "error",
     "traceback": [
      "\u001b[0;31m---------------------------------------------------------------------------\u001b[0m",
      "\u001b[0;31mNameError\u001b[0m                                 Traceback (most recent call last)",
      "Cell \u001b[0;32mIn[9], line 17\u001b[0m\n\u001b[1;32m     15\u001b[0m \u001b[38;5;66;03m# Check all numeric features for outliers\u001b[39;00m\n\u001b[1;32m     16\u001b[0m outlier_summary \u001b[38;5;241m=\u001b[39m {}\n\u001b[0;32m---> 17\u001b[0m \u001b[38;5;28;01mfor\u001b[39;00m col \u001b[38;5;129;01min\u001b[39;00m df\u001b[38;5;241m.\u001b[39mselect_dtypes(include\u001b[38;5;241m=\u001b[39m\u001b[38;5;124m'\u001b[39m\u001b[38;5;124mnumber\u001b[39m\u001b[38;5;124m'\u001b[39m)\u001b[38;5;241m.\u001b[39mcolumns:\n\u001b[1;32m     18\u001b[0m     outliers \u001b[38;5;241m=\u001b[39m detect_outliers_iqr(df, col)\n\u001b[1;32m     19\u001b[0m     \u001b[38;5;28;01mif\u001b[39;00m \u001b[38;5;129;01mnot\u001b[39;00m outliers\u001b[38;5;241m.\u001b[39mempty:\n",
      "\u001b[0;31mNameError\u001b[0m: name 'df' is not defined"
     ]
    }
   ],
   "source": [
    "# -------------------------------\n",
    "# Step 12: Outlier Detection\n",
    "# -------------------------------\n",
    "\n",
    "def detect_outliers_iqr(df, column):\n",
    "    \"\"\"Return indices of outliers in a given column using IQR method.\"\"\"\n",
    "    Q1 = df[column].quantile(0.25)\n",
    "    Q3 = df[column].quantile(0.75)\n",
    "    IQR = Q3 - Q1\n",
    "    lower = Q1 - 1.5 * IQR\n",
    "    upper = Q3 + 1.5 * IQR\n",
    "    outliers = df[(df[column] < lower) | (df[column] > upper)]\n",
    "    return outliers\n",
    "\n",
    "# Check all numeric features for outliers\n",
    "outlier_summary = {}\n",
    "for col in df.select_dtypes(include='number').columns:\n",
    "    outliers = detect_outliers_iqr(df, col)\n",
    "    if not outliers.empty:\n",
    "        outlier_summary[col] = len(outliers)\n",
    "\n",
    "print(\"Number of outliers detected per feature:\")\n",
    "print(outlier_summary)\n",
    "\n",
    "# Example: show actual outliers for 'residual sugar' (a common one)\n",
    "outliers_sugar = detect_outliers_iqr(df, 'residual sugar')\n",
    "print(\"\\nResidual sugar outliers (first 5 rows):\")\n",
    "print(outliers_sugar.head())\n"
   ]
  },
  {
   "cell_type": "code",
   "execution_count": null,
   "id": "e6baeaa6-5bba-4a00-9f4e-139003129775",
   "metadata": {},
   "outputs": [],
   "source": []
  },
  {
   "cell_type": "code",
   "execution_count": null,
   "id": "b5ece016-cbb3-4488-998e-fab026543079",
   "metadata": {},
   "outputs": [],
   "source": []
  },
  {
   "cell_type": "code",
   "execution_count": null,
   "id": "605b36d3-205f-4968-89ca-9299551c7303",
   "metadata": {},
   "outputs": [],
   "source": []
  }
 ],
 "metadata": {
  "kernelspec": {
   "display_name": "Python [conda env:anaconda3]",
   "language": "python",
   "name": "conda-env-anaconda3-py"
  },
  "language_info": {
   "codemirror_mode": {
    "name": "ipython",
    "version": 3
   },
   "file_extension": ".py",
   "mimetype": "text/x-python",
   "name": "python",
   "nbconvert_exporter": "python",
   "pygments_lexer": "ipython3",
   "version": "3.13.5"
  }
 },
 "nbformat": 4,
 "nbformat_minor": 5
}
